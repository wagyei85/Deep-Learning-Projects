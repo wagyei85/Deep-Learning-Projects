{
 "cells": [
  {
   "cell_type": "code",
   "execution_count": 1,
   "metadata": {},
   "outputs": [],
   "source": [
    "import numpy as np\n",
    "import pandas as pd\n",
    "import matplotlib.pyplot as plt\n",
    "import seaborn as sns\n",
    "import warnings \n",
    "from sklearn.model_selection import train_test_split\n",
    "from sklearn.preprocessing import StandardScaler\n",
    "from sklearn.preprocessing import LabelEncoder\n",
    "from sklearn.preprocessing import OneHotEncoder\n",
    "from sklearn.metrics import confusion_matrix\n",
    "warnings.filterwarnings('ignore')"
   ]
  },
  {
   "cell_type": "code",
   "execution_count": 2,
   "metadata": {},
   "outputs": [],
   "source": [
    "df=pd.read_csv('churn.csv')"
   ]
  },
  {
   "cell_type": "code",
   "execution_count": 3,
   "metadata": {},
   "outputs": [
    {
     "data": {
      "text/html": [
       "<div>\n",
       "<style scoped>\n",
       "    .dataframe tbody tr th:only-of-type {\n",
       "        vertical-align: middle;\n",
       "    }\n",
       "\n",
       "    .dataframe tbody tr th {\n",
       "        vertical-align: top;\n",
       "    }\n",
       "\n",
       "    .dataframe thead th {\n",
       "        text-align: right;\n",
       "    }\n",
       "</style>\n",
       "<table border=\"1\" class=\"dataframe\">\n",
       "  <thead>\n",
       "    <tr style=\"text-align: right;\">\n",
       "      <th></th>\n",
       "      <th>RowNumber</th>\n",
       "      <th>CustomerId</th>\n",
       "      <th>Surname</th>\n",
       "      <th>CreditScore</th>\n",
       "      <th>Geography</th>\n",
       "      <th>Gender</th>\n",
       "      <th>Age</th>\n",
       "      <th>Tenure</th>\n",
       "      <th>Balance</th>\n",
       "      <th>NumOfProducts</th>\n",
       "      <th>HasCrCard</th>\n",
       "      <th>IsActiveMember</th>\n",
       "      <th>EstimatedSalary</th>\n",
       "      <th>Exited</th>\n",
       "    </tr>\n",
       "  </thead>\n",
       "  <tbody>\n",
       "    <tr>\n",
       "      <td>0</td>\n",
       "      <td>1</td>\n",
       "      <td>15634602</td>\n",
       "      <td>Hargrave</td>\n",
       "      <td>619</td>\n",
       "      <td>France</td>\n",
       "      <td>Female</td>\n",
       "      <td>42</td>\n",
       "      <td>2</td>\n",
       "      <td>0.00</td>\n",
       "      <td>1</td>\n",
       "      <td>1</td>\n",
       "      <td>1</td>\n",
       "      <td>101348.88</td>\n",
       "      <td>1</td>\n",
       "    </tr>\n",
       "    <tr>\n",
       "      <td>1</td>\n",
       "      <td>2</td>\n",
       "      <td>15647311</td>\n",
       "      <td>Hill</td>\n",
       "      <td>608</td>\n",
       "      <td>Spain</td>\n",
       "      <td>Female</td>\n",
       "      <td>41</td>\n",
       "      <td>1</td>\n",
       "      <td>83807.86</td>\n",
       "      <td>1</td>\n",
       "      <td>0</td>\n",
       "      <td>1</td>\n",
       "      <td>112542.58</td>\n",
       "      <td>0</td>\n",
       "    </tr>\n",
       "    <tr>\n",
       "      <td>2</td>\n",
       "      <td>3</td>\n",
       "      <td>15619304</td>\n",
       "      <td>Onio</td>\n",
       "      <td>502</td>\n",
       "      <td>France</td>\n",
       "      <td>Female</td>\n",
       "      <td>42</td>\n",
       "      <td>8</td>\n",
       "      <td>159660.80</td>\n",
       "      <td>3</td>\n",
       "      <td>1</td>\n",
       "      <td>0</td>\n",
       "      <td>113931.57</td>\n",
       "      <td>1</td>\n",
       "    </tr>\n",
       "    <tr>\n",
       "      <td>3</td>\n",
       "      <td>4</td>\n",
       "      <td>15701354</td>\n",
       "      <td>Boni</td>\n",
       "      <td>699</td>\n",
       "      <td>France</td>\n",
       "      <td>Female</td>\n",
       "      <td>39</td>\n",
       "      <td>1</td>\n",
       "      <td>0.00</td>\n",
       "      <td>2</td>\n",
       "      <td>0</td>\n",
       "      <td>0</td>\n",
       "      <td>93826.63</td>\n",
       "      <td>0</td>\n",
       "    </tr>\n",
       "    <tr>\n",
       "      <td>4</td>\n",
       "      <td>5</td>\n",
       "      <td>15737888</td>\n",
       "      <td>Mitchell</td>\n",
       "      <td>850</td>\n",
       "      <td>Spain</td>\n",
       "      <td>Female</td>\n",
       "      <td>43</td>\n",
       "      <td>2</td>\n",
       "      <td>125510.82</td>\n",
       "      <td>1</td>\n",
       "      <td>1</td>\n",
       "      <td>1</td>\n",
       "      <td>79084.10</td>\n",
       "      <td>0</td>\n",
       "    </tr>\n",
       "  </tbody>\n",
       "</table>\n",
       "</div>"
      ],
      "text/plain": [
       "   RowNumber  CustomerId   Surname  CreditScore Geography  Gender  Age  \\\n",
       "0          1    15634602  Hargrave          619    France  Female   42   \n",
       "1          2    15647311      Hill          608     Spain  Female   41   \n",
       "2          3    15619304      Onio          502    France  Female   42   \n",
       "3          4    15701354      Boni          699    France  Female   39   \n",
       "4          5    15737888  Mitchell          850     Spain  Female   43   \n",
       "\n",
       "   Tenure    Balance  NumOfProducts  HasCrCard  IsActiveMember  \\\n",
       "0       2       0.00              1          1               1   \n",
       "1       1   83807.86              1          0               1   \n",
       "2       8  159660.80              3          1               0   \n",
       "3       1       0.00              2          0               0   \n",
       "4       2  125510.82              1          1               1   \n",
       "\n",
       "   EstimatedSalary  Exited  \n",
       "0        101348.88       1  \n",
       "1        112542.58       0  \n",
       "2        113931.57       1  \n",
       "3         93826.63       0  \n",
       "4         79084.10       0  "
      ]
     },
     "execution_count": 3,
     "metadata": {},
     "output_type": "execute_result"
    }
   ],
   "source": [
    "df.head()"
   ]
  },
  {
   "cell_type": "code",
   "execution_count": 4,
   "metadata": {},
   "outputs": [
    {
     "data": {
      "text/html": [
       "<div>\n",
       "<style scoped>\n",
       "    .dataframe tbody tr th:only-of-type {\n",
       "        vertical-align: middle;\n",
       "    }\n",
       "\n",
       "    .dataframe tbody tr th {\n",
       "        vertical-align: top;\n",
       "    }\n",
       "\n",
       "    .dataframe thead th {\n",
       "        text-align: right;\n",
       "    }\n",
       "</style>\n",
       "<table border=\"1\" class=\"dataframe\">\n",
       "  <thead>\n",
       "    <tr style=\"text-align: right;\">\n",
       "      <th></th>\n",
       "      <th>RowNumber</th>\n",
       "      <th>CustomerId</th>\n",
       "      <th>Surname</th>\n",
       "      <th>CreditScore</th>\n",
       "      <th>Geography</th>\n",
       "      <th>Gender</th>\n",
       "      <th>Age</th>\n",
       "      <th>Tenure</th>\n",
       "      <th>Balance</th>\n",
       "      <th>NumOfProducts</th>\n",
       "      <th>HasCrCard</th>\n",
       "      <th>IsActiveMember</th>\n",
       "      <th>EstimatedSalary</th>\n",
       "      <th>Exited</th>\n",
       "    </tr>\n",
       "  </thead>\n",
       "  <tbody>\n",
       "    <tr>\n",
       "      <td>9995</td>\n",
       "      <td>9996</td>\n",
       "      <td>15606229</td>\n",
       "      <td>Obijiaku</td>\n",
       "      <td>771</td>\n",
       "      <td>France</td>\n",
       "      <td>Male</td>\n",
       "      <td>39</td>\n",
       "      <td>5</td>\n",
       "      <td>0.00</td>\n",
       "      <td>2</td>\n",
       "      <td>1</td>\n",
       "      <td>0</td>\n",
       "      <td>96270.64</td>\n",
       "      <td>0</td>\n",
       "    </tr>\n",
       "    <tr>\n",
       "      <td>9996</td>\n",
       "      <td>9997</td>\n",
       "      <td>15569892</td>\n",
       "      <td>Johnstone</td>\n",
       "      <td>516</td>\n",
       "      <td>France</td>\n",
       "      <td>Male</td>\n",
       "      <td>35</td>\n",
       "      <td>10</td>\n",
       "      <td>57369.61</td>\n",
       "      <td>1</td>\n",
       "      <td>1</td>\n",
       "      <td>1</td>\n",
       "      <td>101699.77</td>\n",
       "      <td>0</td>\n",
       "    </tr>\n",
       "    <tr>\n",
       "      <td>9997</td>\n",
       "      <td>9998</td>\n",
       "      <td>15584532</td>\n",
       "      <td>Liu</td>\n",
       "      <td>709</td>\n",
       "      <td>France</td>\n",
       "      <td>Female</td>\n",
       "      <td>36</td>\n",
       "      <td>7</td>\n",
       "      <td>0.00</td>\n",
       "      <td>1</td>\n",
       "      <td>0</td>\n",
       "      <td>1</td>\n",
       "      <td>42085.58</td>\n",
       "      <td>1</td>\n",
       "    </tr>\n",
       "    <tr>\n",
       "      <td>9998</td>\n",
       "      <td>9999</td>\n",
       "      <td>15682355</td>\n",
       "      <td>Sabbatini</td>\n",
       "      <td>772</td>\n",
       "      <td>Germany</td>\n",
       "      <td>Male</td>\n",
       "      <td>42</td>\n",
       "      <td>3</td>\n",
       "      <td>75075.31</td>\n",
       "      <td>2</td>\n",
       "      <td>1</td>\n",
       "      <td>0</td>\n",
       "      <td>92888.52</td>\n",
       "      <td>1</td>\n",
       "    </tr>\n",
       "    <tr>\n",
       "      <td>9999</td>\n",
       "      <td>10000</td>\n",
       "      <td>15628319</td>\n",
       "      <td>Walker</td>\n",
       "      <td>792</td>\n",
       "      <td>France</td>\n",
       "      <td>Female</td>\n",
       "      <td>28</td>\n",
       "      <td>4</td>\n",
       "      <td>130142.79</td>\n",
       "      <td>1</td>\n",
       "      <td>1</td>\n",
       "      <td>0</td>\n",
       "      <td>38190.78</td>\n",
       "      <td>0</td>\n",
       "    </tr>\n",
       "  </tbody>\n",
       "</table>\n",
       "</div>"
      ],
      "text/plain": [
       "      RowNumber  CustomerId    Surname  CreditScore Geography  Gender  Age  \\\n",
       "9995       9996    15606229   Obijiaku          771    France    Male   39   \n",
       "9996       9997    15569892  Johnstone          516    France    Male   35   \n",
       "9997       9998    15584532        Liu          709    France  Female   36   \n",
       "9998       9999    15682355  Sabbatini          772   Germany    Male   42   \n",
       "9999      10000    15628319     Walker          792    France  Female   28   \n",
       "\n",
       "      Tenure    Balance  NumOfProducts  HasCrCard  IsActiveMember  \\\n",
       "9995       5       0.00              2          1               0   \n",
       "9996      10   57369.61              1          1               1   \n",
       "9997       7       0.00              1          0               1   \n",
       "9998       3   75075.31              2          1               0   \n",
       "9999       4  130142.79              1          1               0   \n",
       "\n",
       "      EstimatedSalary  Exited  \n",
       "9995         96270.64       0  \n",
       "9996        101699.77       0  \n",
       "9997         42085.58       1  \n",
       "9998         92888.52       1  \n",
       "9999         38190.78       0  "
      ]
     },
     "execution_count": 4,
     "metadata": {},
     "output_type": "execute_result"
    }
   ],
   "source": [
    "df.tail()"
   ]
  },
  {
   "cell_type": "code",
   "execution_count": 5,
   "metadata": {},
   "outputs": [
    {
     "data": {
      "text/plain": [
       "(10000, 14)"
      ]
     },
     "execution_count": 5,
     "metadata": {},
     "output_type": "execute_result"
    }
   ],
   "source": [
    "df.shape"
   ]
  },
  {
   "cell_type": "code",
   "execution_count": 6,
   "metadata": {},
   "outputs": [
    {
     "name": "stdout",
     "output_type": "stream",
     "text": [
      "<class 'pandas.core.frame.DataFrame'>\n",
      "RangeIndex: 10000 entries, 0 to 9999\n",
      "Data columns (total 14 columns):\n",
      "RowNumber          10000 non-null int64\n",
      "CustomerId         10000 non-null int64\n",
      "Surname            10000 non-null object\n",
      "CreditScore        10000 non-null int64\n",
      "Geography          10000 non-null object\n",
      "Gender             10000 non-null object\n",
      "Age                10000 non-null int64\n",
      "Tenure             10000 non-null int64\n",
      "Balance            10000 non-null float64\n",
      "NumOfProducts      10000 non-null int64\n",
      "HasCrCard          10000 non-null int64\n",
      "IsActiveMember     10000 non-null int64\n",
      "EstimatedSalary    10000 non-null float64\n",
      "Exited             10000 non-null int64\n",
      "dtypes: float64(2), int64(9), object(3)\n",
      "memory usage: 1.1+ MB\n"
     ]
    }
   ],
   "source": [
    "df.info()"
   ]
  },
  {
   "cell_type": "code",
   "execution_count": 7,
   "metadata": {},
   "outputs": [
    {
     "data": {
      "text/plain": [
       "RowNumber            int64\n",
       "CustomerId           int64\n",
       "Surname             object\n",
       "CreditScore          int64\n",
       "Geography           object\n",
       "Gender              object\n",
       "Age                  int64\n",
       "Tenure               int64\n",
       "Balance            float64\n",
       "NumOfProducts        int64\n",
       "HasCrCard            int64\n",
       "IsActiveMember       int64\n",
       "EstimatedSalary    float64\n",
       "Exited               int64\n",
       "dtype: object"
      ]
     },
     "execution_count": 7,
     "metadata": {},
     "output_type": "execute_result"
    }
   ],
   "source": [
    "df.dtypes"
   ]
  },
  {
   "cell_type": "code",
   "execution_count": 8,
   "metadata": {},
   "outputs": [
    {
     "data": {
      "text/plain": [
       "<matplotlib.axes._subplots.AxesSubplot at 0x22e8d68f608>"
      ]
     },
     "execution_count": 8,
     "metadata": {},
     "output_type": "execute_result"
    },
    {
     "data": {
      "image/png": "[encoded data removed]",
      "text/plain": [
       "<Figure size 432x288 with 2 Axes>"
      ]
     },
     "metadata": {
      "needs_background": "light"
     },
     "output_type": "display_data"
    }
   ],
   "source": [
    "sns.heatmap(df.isnull())"
   ]
  },
  {
   "cell_type": "code",
   "execution_count": 9,
   "metadata": {},
   "outputs": [
    {
     "data": {
      "text/plain": [
       "0"
      ]
     },
     "execution_count": 9,
     "metadata": {},
     "output_type": "execute_result"
    }
   ],
   "source": [
    "df.duplicated().sum()"
   ]
  },
  {
   "cell_type": "code",
   "execution_count": 10,
   "metadata": {},
   "outputs": [],
   "source": [
    "x=df.iloc[:,3:13].values\n",
    "y=df.iloc[:,13].values"
   ]
  },
  {
   "cell_type": "code",
   "execution_count": 11,
   "metadata": {},
   "outputs": [],
   "source": [
    "le=LabelEncoder()\n",
    "ohe=OneHotEncoder(categorical_features=[1])\n",
    "\n",
    "x[:,1]=le.fit_transform(x[:,1])\n",
    "x[:,2]=le.fit_transform(x[:,2])\n",
    "x=ohe.fit_transform(x).toarray()\n",
    "x=x[:,1:]"
   ]
  },
  {
   "cell_type": "code",
   "execution_count": 12,
   "metadata": {},
   "outputs": [],
   "source": [
    "x_train,x_test,y_train,y_test=train_test_split(x,y,test_size=0.2, random_state=0)\n",
    "sc=StandardScaler()\n",
    "x_train=sc.fit_transform(x_train)\n",
    "x_test=sc.fit_transform(x_test)"
   ]
  },
  {
   "cell_type": "code",
   "execution_count": 14,
   "metadata": {},
   "outputs": [],
   "source": [
    "import keras\n",
    "from keras.models import Sequential\n",
    "from keras.layers import Dense"
   ]
  },
  {
   "cell_type": "code",
   "execution_count": 15,
   "metadata": {},
   "outputs": [],
   "source": [
    "# Initialising the ANN\n",
    "classifier=Sequential()"
   ]
  },
  {
   "cell_type": "code",
   "execution_count": 16,
   "metadata": {},
   "outputs": [],
   "source": [
    "# Adding the input layer and the first hidden layer\n",
    "classifier.add(Dense(output_dim=6, init='uniform',activation='relu',input_dim=11))"
   ]
  },
  {
   "cell_type": "code",
   "execution_count": 17,
   "metadata": {},
   "outputs": [],
   "source": [
    "#Adding the second hidden layer\n",
    "classifier.add(Dense(output_dim=6,init='uniform',activation='relu'))"
   ]
  },
  {
   "cell_type": "code",
   "execution_count": 18,
   "metadata": {},
   "outputs": [],
   "source": [
    "#Adding the output layer\n",
    "classifier.add(Dense(output_dim=1, init='uniform',activation='sigmoid'))"
   ]
  },
  {
   "cell_type": "code",
   "execution_count": 19,
   "metadata": {},
   "outputs": [],
   "source": [
    "# Compiling the ANN\n",
    "classifier.compile(optimizer='adam',loss='binary_crossentropy',metrics=['accuracy'])"
   ]
  },
  {
   "cell_type": "code",
   "execution_count": 20,
   "metadata": {},
   "outputs": [
    {
     "name": "stdout",
     "output_type": "stream",
     "text": [
      "Epoch 1/100\n",
      "8000/8000 [==============================] - 3s 431us/step - loss: 0.4841 - accuracy: 0.7958\n",
      "Epoch 2/100\n",
      "8000/8000 [==============================] - 2s 274us/step - loss: 0.4289 - accuracy: 0.7960\n",
      "Epoch 3/100\n",
      "8000/8000 [==============================] - 2s 264us/step - loss: 0.4242 - accuracy: 0.7960\n",
      "Epoch 4/100\n",
      "8000/8000 [==============================] - 3s 321us/step - loss: 0.4200 - accuracy: 0.8129\n",
      "Epoch 5/100\n",
      "8000/8000 [==============================] - 2s 270us/step - loss: 0.4171 - accuracy: 0.8235\n",
      "Epoch 6/100\n",
      "8000/8000 [==============================] - 2s 294us/step - loss: 0.4152 - accuracy: 0.8299\n",
      "Epoch 7/100\n",
      "8000/8000 [==============================] - 2s 276us/step - loss: 0.4132 - accuracy: 0.8309\n",
      "Epoch 8/100\n",
      "8000/8000 [==============================] - 2s 272us/step - loss: 0.4121 - accuracy: 0.8313\n",
      "Epoch 9/100\n",
      "8000/8000 [==============================] - 2s 310us/step - loss: 0.4109 - accuracy: 0.8321\n",
      "Epoch 10/100\n",
      "8000/8000 [==============================] - 2s 242us/step - loss: 0.4097 - accuracy: 0.8339\n",
      "Epoch 11/100\n",
      "8000/8000 [==============================] - 2s 268us/step - loss: 0.4088 - accuracy: 0.8332\n",
      "Epoch 12/100\n",
      "8000/8000 [==============================] - 2s 281us/step - loss: 0.4078 - accuracy: 0.8336\n",
      "Epoch 13/100\n",
      "8000/8000 [==============================] - 2s 234us/step - loss: 0.4073 - accuracy: 0.8329\n",
      "Epoch 14/100\n",
      "8000/8000 [==============================] - 2s 262us/step - loss: 0.4068 - accuracy: 0.8339\n",
      "Epoch 15/100\n",
      "8000/8000 [==============================] - 2s 219us/step - loss: 0.4059 - accuracy: 0.8339\n",
      "Epoch 16/100\n",
      "8000/8000 [==============================] - 2s 257us/step - loss: 0.4058 - accuracy: 0.8359\n",
      "Epoch 17/100\n",
      "8000/8000 [==============================] - 2s 234us/step - loss: 0.4051 - accuracy: 0.8351\n",
      "Epoch 18/100\n",
      "8000/8000 [==============================] - 2s 236us/step - loss: 0.4046 - accuracy: 0.8341\n",
      "Epoch 19/100\n",
      "8000/8000 [==============================] - 2s 247us/step - loss: 0.4048 - accuracy: 0.8349\n",
      "Epoch 20/100\n",
      "8000/8000 [==============================] - 2s 229us/step - loss: 0.4043 - accuracy: 0.8345\n",
      "Epoch 21/100\n",
      "8000/8000 [==============================] - 2s 224us/step - loss: 0.4039 - accuracy: 0.8350\n",
      "Epoch 22/100\n",
      "8000/8000 [==============================] - 2s 243us/step - loss: 0.4041 - accuracy: 0.8330\n",
      "Epoch 23/100\n",
      "8000/8000 [==============================] - 2s 253us/step - loss: 0.4038 - accuracy: 0.8357\n",
      "Epoch 24/100\n",
      "8000/8000 [==============================] - ETA: 0s - loss: 0.4040 - accuracy: 0.83 - 2s 243us/step - loss: 0.4036 - accuracy: 0.8346\n",
      "Epoch 25/100\n",
      "8000/8000 [==============================] - 2s 239us/step - loss: 0.4037 - accuracy: 0.8346\n",
      "Epoch 26/100\n",
      "8000/8000 [==============================] - 2s 238us/step - loss: 0.4031 - accuracy: 0.8335\n",
      "Epoch 27/100\n",
      "8000/8000 [==============================] - 2s 247us/step - loss: 0.4029 - accuracy: 0.8339\n",
      "Epoch 28/100\n",
      "8000/8000 [==============================] - 2s 238us/step - loss: 0.4030 - accuracy: 0.8350\n",
      "Epoch 29/100\n",
      "8000/8000 [==============================] - 2s 239us/step - loss: 0.4026 - accuracy: 0.8351\n",
      "Epoch 30/100\n",
      "8000/8000 [==============================] - 2s 234us/step - loss: 0.4028 - accuracy: 0.8350\n",
      "Epoch 31/100\n",
      "8000/8000 [==============================] - 2s 238us/step - loss: 0.4026 - accuracy: 0.8345\n",
      "Epoch 32/100\n",
      "8000/8000 [==============================] - 2s 268us/step - loss: 0.4023 - accuracy: 0.8346\n",
      "Epoch 33/100\n",
      "8000/8000 [==============================] - 2s 227us/step - loss: 0.4024 - accuracy: 0.8340\n",
      "Epoch 34/100\n",
      "8000/8000 [==============================] - 2s 241us/step - loss: 0.4025 - accuracy: 0.8349\n",
      "Epoch 35/100\n",
      "8000/8000 [==============================] - 2s 248us/step - loss: 0.4023 - accuracy: 0.8347\n",
      "Epoch 36/100\n",
      "8000/8000 [==============================] - 2s 263us/step - loss: 0.4018 - accuracy: 0.8342\n",
      "Epoch 37/100\n",
      "8000/8000 [==============================] - 2s 245us/step - loss: 0.4022 - accuracy: 0.8349\n",
      "Epoch 38/100\n",
      "8000/8000 [==============================] - 2s 237us/step - loss: 0.4018 - accuracy: 0.8357\n",
      "Epoch 39/100\n",
      "8000/8000 [==============================] - 2s 224us/step - loss: 0.4020 - accuracy: 0.8331\n",
      "Epoch 40/100\n",
      "8000/8000 [==============================] - 2s 239us/step - loss: 0.4013 - accuracy: 0.8344\n",
      "Epoch 41/100\n",
      "8000/8000 [==============================] - 2s 237us/step - loss: 0.4019 - accuracy: 0.8344\n",
      "Epoch 42/100\n",
      "8000/8000 [==============================] - 2s 243us/step - loss: 0.4013 - accuracy: 0.8351\n",
      "Epoch 43/100\n",
      "8000/8000 [==============================] - 2s 225us/step - loss: 0.4011 - accuracy: 0.8344\n",
      "Epoch 44/100\n",
      "8000/8000 [==============================] - 2s 227us/step - loss: 0.4014 - accuracy: 0.8357\n",
      "Epoch 45/100\n",
      "8000/8000 [==============================] - 2s 222us/step - loss: 0.4014 - accuracy: 0.8346\n",
      "Epoch 46/100\n",
      "8000/8000 [==============================] - 2s 245us/step - loss: 0.4012 - accuracy: 0.8353\n",
      "Epoch 47/100\n",
      "8000/8000 [==============================] - 2s 252us/step - loss: 0.4013 - accuracy: 0.8340\n",
      "Epoch 48/100\n",
      "8000/8000 [==============================] - 2s 225us/step - loss: 0.4015 - accuracy: 0.8353\n",
      "Epoch 49/100\n",
      "8000/8000 [==============================] - 2s 229us/step - loss: 0.4008 - accuracy: 0.8346\n",
      "Epoch 50/100\n",
      "8000/8000 [==============================] - 2s 216us/step - loss: 0.4012 - accuracy: 0.8338\n",
      "Epoch 51/100\n",
      "8000/8000 [==============================] - 2s 259us/step - loss: 0.4011 - accuracy: 0.8346\n",
      "Epoch 52/100\n",
      "8000/8000 [==============================] - 2s 270us/step - loss: 0.4010 - accuracy: 0.8338\n",
      "Epoch 53/100\n",
      "8000/8000 [==============================] - 2s 247us/step - loss: 0.4008 - accuracy: 0.8346\n",
      "Epoch 54/100\n",
      "8000/8000 [==============================] - 2s 221us/step - loss: 0.4009 - accuracy: 0.8349\n",
      "Epoch 55/100\n",
      "8000/8000 [==============================] - 2s 230us/step - loss: 0.4010 - accuracy: 0.8342\n",
      "Epoch 56/100\n",
      "8000/8000 [==============================] - 2s 252us/step - loss: 0.4009 - accuracy: 0.8347\n",
      "Epoch 57/100\n",
      "8000/8000 [==============================] - 2s 243us/step - loss: 0.4011 - accuracy: 0.8339\n",
      "Epoch 58/100\n",
      "8000/8000 [==============================] - 2s 226us/step - loss: 0.4009 - accuracy: 0.8342\n",
      "Epoch 59/100\n",
      "8000/8000 [==============================] - 2s 235us/step - loss: 0.4005 - accuracy: 0.8379\n",
      "Epoch 60/100\n",
      "8000/8000 [==============================] - 2s 218us/step - loss: 0.4010 - accuracy: 0.8339\n",
      "Epoch 61/100\n",
      "8000/8000 [==============================] - 2s 243us/step - loss: 0.4006 - accuracy: 0.8366\n",
      "Epoch 62/100\n",
      "8000/8000 [==============================] - 2s 265us/step - loss: 0.4005 - accuracy: 0.8346\n",
      "Epoch 63/100\n",
      "8000/8000 [==============================] - 2s 222us/step - loss: 0.4005 - accuracy: 0.8346\n",
      "Epoch 64/100\n",
      "8000/8000 [==============================] - 2s 229us/step - loss: 0.4003 - accuracy: 0.8347\n",
      "Epoch 65/100\n",
      "8000/8000 [==============================] - 2s 279us/step - loss: 0.4007 - accuracy: 0.8357\n",
      "Epoch 66/100\n",
      "8000/8000 [==============================] - 3s 336us/step - loss: 0.4004 - accuracy: 0.8351\n",
      "Epoch 67/100\n",
      "8000/8000 [==============================] - 2s 264us/step - loss: 0.4003 - accuracy: 0.8339\n",
      "Epoch 68/100\n",
      "8000/8000 [==============================] - 2s 263us/step - loss: 0.4004 - accuracy: 0.8338\n",
      "Epoch 69/100\n",
      "8000/8000 [==============================] - 2s 255us/step - loss: 0.4006 - accuracy: 0.8346\n",
      "Epoch 70/100\n",
      "8000/8000 [==============================] - 2s 241us/step - loss: 0.4001 - accuracy: 0.8370\n",
      "Epoch 71/100\n",
      "8000/8000 [==============================] - 2s 255us/step - loss: 0.4002 - accuracy: 0.8351\n",
      "Epoch 72/100\n",
      "8000/8000 [==============================] - 2s 285us/step - loss: 0.4001 - accuracy: 0.8345\n",
      "Epoch 73/100\n",
      "8000/8000 [==============================] - 2s 235us/step - loss: 0.4004 - accuracy: 0.8350\n",
      "Epoch 74/100\n",
      "8000/8000 [==============================] - 2s 256us/step - loss: 0.4002 - accuracy: 0.8341\n",
      "Epoch 75/100\n",
      "8000/8000 [==============================] - 2s 266us/step - loss: 0.4003 - accuracy: 0.8324\n",
      "Epoch 76/100\n",
      "8000/8000 [==============================] - 2s 256us/step - loss: 0.4004 - accuracy: 0.8347\n",
      "Epoch 77/100\n",
      "8000/8000 [==============================] - 2s 254us/step - loss: 0.4001 - accuracy: 0.8366\n"
     ]
    },
    {
     "name": "stdout",
     "output_type": "stream",
     "text": [
      "Epoch 78/100\n",
      "8000/8000 [==============================] - 2s 232us/step - loss: 0.4003 - accuracy: 0.8354\n",
      "Epoch 79/100\n",
      "8000/8000 [==============================] - 2s 238us/step - loss: 0.4004 - accuracy: 0.8349\n",
      "Epoch 80/100\n",
      "8000/8000 [==============================] - 2s 221us/step - loss: 0.4004 - accuracy: 0.8346\n",
      "Epoch 81/100\n",
      "8000/8000 [==============================] - 2s 231us/step - loss: 0.3998 - accuracy: 0.8346\n",
      "Epoch 82/100\n",
      "8000/8000 [==============================] - 2s 241us/step - loss: 0.4004 - accuracy: 0.8340\n",
      "Epoch 83/100\n",
      "8000/8000 [==============================] - 2s 224us/step - loss: 0.4003 - accuracy: 0.8351\n",
      "Epoch 84/100\n",
      "8000/8000 [==============================] - 2s 245us/step - loss: 0.4001 - accuracy: 0.8365\n",
      "Epoch 85/100\n",
      "8000/8000 [==============================] - 2s 233us/step - loss: 0.4002 - accuracy: 0.8341\n",
      "Epoch 86/100\n",
      "8000/8000 [==============================] - 2s 213us/step - loss: 0.4004 - accuracy: 0.8349\n",
      "Epoch 87/100\n",
      "8000/8000 [==============================] - 6s 741us/step - loss: 0.4003 - accuracy: 0.83491s - loss: 0.3977 -  - ETA\n",
      "Epoch 88/100\n",
      "8000/8000 [==============================] - 2s 245us/step - loss: 0.4005 - accuracy: 0.8342\n",
      "Epoch 89/100\n",
      "8000/8000 [==============================] - 2s 286us/step - loss: 0.4003 - accuracy: 0.8340\n",
      "Epoch 90/100\n",
      "8000/8000 [==============================] - 3s 331us/step - loss: 0.4001 - accuracy: 0.8351\n",
      "Epoch 91/100\n",
      "8000/8000 [==============================] - 2s 306us/step - loss: 0.3998 - accuracy: 0.8342\n",
      "Epoch 92/100\n",
      "8000/8000 [==============================] - 2s 252us/step - loss: 0.4004 - accuracy: 0.8342\n",
      "Epoch 93/100\n",
      "8000/8000 [==============================] - 2s 237us/step - loss: 0.4003 - accuracy: 0.8344\n",
      "Epoch 94/100\n",
      "8000/8000 [==============================] - 2s 260us/step - loss: 0.3999 - accuracy: 0.8350\n",
      "Epoch 95/100\n",
      "8000/8000 [==============================] - 2s 261us/step - loss: 0.4003 - accuracy: 0.8356\n",
      "Epoch 96/100\n",
      "8000/8000 [==============================] - 2s 249us/step - loss: 0.4001 - accuracy: 0.8351\n",
      "Epoch 97/100\n",
      "8000/8000 [==============================] - 2s 230us/step - loss: 0.4004 - accuracy: 0.8361\n",
      "Epoch 98/100\n",
      "8000/8000 [==============================] - 2s 246us/step - loss: 0.3998 - accuracy: 0.8332\n",
      "Epoch 99/100\n",
      "8000/8000 [==============================] - 2s 249us/step - loss: 0.4001 - accuracy: 0.8344\n",
      "Epoch 100/100\n",
      "8000/8000 [==============================] - 2s 238us/step - loss: 0.3999 - accuracy: 0.8355\n"
     ]
    },
    {
     "data": {
      "text/plain": [
       "<keras.callbacks.callbacks.History at 0x22e94757e08>"
      ]
     },
     "execution_count": 20,
     "metadata": {},
     "output_type": "execute_result"
    }
   ],
   "source": [
    "#Fitting the ANN to the Training set\n",
    "classifier.fit(x_train,y_train,batch_size=10,nb_epoch=100)"
   ]
  },
  {
   "cell_type": "code",
   "execution_count": 21,
   "metadata": {},
   "outputs": [],
   "source": [
    "#The Acc in the First Epoch is 79%\n",
    "#The Acc in the last Epoch is 83%"
   ]
  },
  {
   "cell_type": "code",
   "execution_count": 22,
   "metadata": {},
   "outputs": [],
   "source": [
    "# Predicting the Test set results\n",
    "\n",
    "pred=classifier.predict(x_test)\n",
    "pred=(pred>0.5)"
   ]
  },
  {
   "cell_type": "code",
   "execution_count": 23,
   "metadata": {},
   "outputs": [
    {
     "data": {
      "image/png": "[encoded data removed]",
      "text/plain": [
       "<Figure size 360x360 with 1 Axes>"
      ]
     },
     "metadata": {
      "needs_background": "light"
     },
     "output_type": "display_data"
    }
   ],
   "source": [
    "# Making the confusion Matrix\n",
    "\n",
    "cm=confusion_matrix(y_test,pred)\n",
    "fig,ax=plt.subplots(figsize=(5,5))\n",
    "ax.matshow(cm,cmap=plt.cm.Blues,alpha=0.7)\n",
    "for i in range(cm.shape[0]):\n",
    "    for j in range(cm.shape[1]):\n",
    "        ax.text(x=j,y=i,s=cm[i,j],va='center',ha='center')\n",
    "plt.title('Confusion Matrix')\n",
    "plt.xlabel('Predicted')\n",
    "plt.ylabel('Actual')\n",
    "plt.show()"
   ]
  },
  {
   "cell_type": "code",
   "execution_count": null,
   "metadata": {},
   "outputs": [],
   "source": []
  },
  {
   "cell_type": "code",
   "execution_count": null,
   "metadata": {},
   "outputs": [],
   "source": []
  },
  {
   "cell_type": "code",
   "execution_count": null,
   "metadata": {},
   "outputs": [],
   "source": []
  }
 ],
 "metadata": {
  "kernelspec": {
   "display_name": "Python 3",
   "language": "python",
   "name": "python3"
  },
  "language_info": {
   "codemirror_mode": {
    "name": "ipython",
    "version": 3
   },
   "file_extension": ".py",
   "mimetype": "text/x-python",
   "name": "python",
   "nbconvert_exporter": "python",
   "pygments_lexer": "ipython3",
   "version": "3.7.4"
  }
 },
 "nbformat": 4,
 "nbformat_minor": 2
}
